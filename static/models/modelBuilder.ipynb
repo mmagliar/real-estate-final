{
 "cells": [
  {
   "cell_type": "code",
   "execution_count": 1,
   "metadata": {},
   "outputs": [
    {
     "name": "stderr",
     "output_type": "stream",
     "text": [
      "Using TensorFlow backend.\n"
     ]
    }
   ],
   "source": [
    "# Import dependencies\n",
    "import pandas as pd\n",
    "import numpy as np\n",
    "import os, time, pickle\n",
    "from keras.utils import to_categorical\n",
    "from sklearn.ensemble import RandomForestClassifier\n",
    "from sklearn.model_selection import train_test_split\n",
    "from sklearn.linear_model import LinearRegression"
   ]
  },
  {
   "cell_type": "code",
   "execution_count": 2,
   "metadata": {},
   "outputs": [
    {
     "data": {
      "text/html": [
       "<div>\n",
       "<style scoped>\n",
       "    .dataframe tbody tr th:only-of-type {\n",
       "        vertical-align: middle;\n",
       "    }\n",
       "\n",
       "    .dataframe tbody tr th {\n",
       "        vertical-align: top;\n",
       "    }\n",
       "\n",
       "    .dataframe thead th {\n",
       "        text-align: right;\n",
       "    }\n",
       "</style>\n",
       "<table border=\"1\" class=\"dataframe\">\n",
       "  <thead>\n",
       "    <tr style=\"text-align: right;\">\n",
       "      <th></th>\n",
       "      <th>RecordID</th>\n",
       "      <th>Acerage</th>\n",
       "      <th>List_Price</th>\n",
       "      <th>Address</th>\n",
       "      <th>Cities_Towns</th>\n",
       "      <th>County</th>\n",
       "      <th>Style</th>\n",
       "      <th>Full_Baths</th>\n",
       "      <th>Half_Baths</th>\n",
       "      <th>Bedrooms</th>\n",
       "      <th>...</th>\n",
       "      <th>Basmnt_Desc</th>\n",
       "      <th>Exterior</th>\n",
       "      <th>Cool_System</th>\n",
       "      <th>Heat_System</th>\n",
       "      <th>Water</th>\n",
       "      <th>Sewer</th>\n",
       "      <th>FHA_55_</th>\n",
       "      <th>Land_Assessment</th>\n",
       "      <th>Building_Assessment</th>\n",
       "      <th>Tax_Amount</th>\n",
       "    </tr>\n",
       "  </thead>\n",
       "  <tbody>\n",
       "    <tr>\n",
       "      <th>0</th>\n",
       "      <td>2</td>\n",
       "      <td>0.55</td>\n",
       "      <td>219000</td>\n",
       "      <td>205 MAIN ST</td>\n",
       "      <td>Andover Boro</td>\n",
       "      <td>Sussex</td>\n",
       "      <td>Victorian</td>\n",
       "      <td>1</td>\n",
       "      <td>0</td>\n",
       "      <td>3</td>\n",
       "      <td>...</td>\n",
       "      <td>1</td>\n",
       "      <td>0</td>\n",
       "      <td>0</td>\n",
       "      <td>1</td>\n",
       "      <td>1</td>\n",
       "      <td>0</td>\n",
       "      <td>0</td>\n",
       "      <td>72700</td>\n",
       "      <td>106300</td>\n",
       "      <td>5219</td>\n",
       "    </tr>\n",
       "    <tr>\n",
       "      <th>1</th>\n",
       "      <td>3</td>\n",
       "      <td>0.38</td>\n",
       "      <td>389000</td>\n",
       "      <td>120 MAIN ST</td>\n",
       "      <td>Andover Boro</td>\n",
       "      <td>Sussex</td>\n",
       "      <td>Victorian</td>\n",
       "      <td>2</td>\n",
       "      <td>0</td>\n",
       "      <td>4</td>\n",
       "      <td>...</td>\n",
       "      <td>1</td>\n",
       "      <td>1</td>\n",
       "      <td>0</td>\n",
       "      <td>0</td>\n",
       "      <td>1</td>\n",
       "      <td>0</td>\n",
       "      <td>0</td>\n",
       "      <td>70300</td>\n",
       "      <td>162900</td>\n",
       "      <td>7100</td>\n",
       "    </tr>\n",
       "    <tr>\n",
       "      <th>2</th>\n",
       "      <td>4</td>\n",
       "      <td>0.32</td>\n",
       "      <td>144900</td>\n",
       "      <td>365 Mohegan CI</td>\n",
       "      <td>Andover Twp.</td>\n",
       "      <td>Sussex</td>\n",
       "      <td>Multi Floor Unit</td>\n",
       "      <td>1</td>\n",
       "      <td>1</td>\n",
       "      <td>2</td>\n",
       "      <td>...</td>\n",
       "      <td>0</td>\n",
       "      <td>0</td>\n",
       "      <td>1</td>\n",
       "      <td>1</td>\n",
       "      <td>1</td>\n",
       "      <td>1</td>\n",
       "      <td>0</td>\n",
       "      <td>50000</td>\n",
       "      <td>62200</td>\n",
       "      <td>4031</td>\n",
       "    </tr>\n",
       "    <tr>\n",
       "      <th>3</th>\n",
       "      <td>5</td>\n",
       "      <td>0.34</td>\n",
       "      <td>148888</td>\n",
       "      <td>8 LINDA LN</td>\n",
       "      <td>Andover Twp.</td>\n",
       "      <td>Sussex</td>\n",
       "      <td>Cape Cod</td>\n",
       "      <td>1</td>\n",
       "      <td>0</td>\n",
       "      <td>3</td>\n",
       "      <td>...</td>\n",
       "      <td>1</td>\n",
       "      <td>1</td>\n",
       "      <td>0</td>\n",
       "      <td>1</td>\n",
       "      <td>0</td>\n",
       "      <td>0</td>\n",
       "      <td>0</td>\n",
       "      <td>88400</td>\n",
       "      <td>89800</td>\n",
       "      <td>6402</td>\n",
       "    </tr>\n",
       "    <tr>\n",
       "      <th>4</th>\n",
       "      <td>6</td>\n",
       "      <td>2.15</td>\n",
       "      <td>169900</td>\n",
       "      <td>4 HILLTOP RD</td>\n",
       "      <td>Andover Twp.</td>\n",
       "      <td>Sussex</td>\n",
       "      <td>Cape Cod</td>\n",
       "      <td>1</td>\n",
       "      <td>0</td>\n",
       "      <td>4</td>\n",
       "      <td>...</td>\n",
       "      <td>1</td>\n",
       "      <td>0</td>\n",
       "      <td>0</td>\n",
       "      <td>1</td>\n",
       "      <td>0</td>\n",
       "      <td>0</td>\n",
       "      <td>0</td>\n",
       "      <td>100800</td>\n",
       "      <td>162100</td>\n",
       "      <td>9445</td>\n",
       "    </tr>\n",
       "  </tbody>\n",
       "</table>\n",
       "<p>5 rows × 21 columns</p>\n",
       "</div>"
      ],
      "text/plain": [
       "   RecordID  Acerage  List_Price         Address  Cities_Towns  County  \\\n",
       "0         2     0.55      219000     205 MAIN ST  Andover Boro  Sussex   \n",
       "1         3     0.38      389000     120 MAIN ST  Andover Boro  Sussex   \n",
       "2         4     0.32      144900  365 Mohegan CI  Andover Twp.  Sussex   \n",
       "3         5     0.34      148888      8 LINDA LN  Andover Twp.  Sussex   \n",
       "4         6     2.15      169900    4 HILLTOP RD  Andover Twp.  Sussex   \n",
       "\n",
       "              Style  Full_Baths  Half_Baths  Bedrooms     ...      \\\n",
       "0         Victorian           1           0         3     ...       \n",
       "1         Victorian           2           0         4     ...       \n",
       "2  Multi Floor Unit           1           1         2     ...       \n",
       "3          Cape Cod           1           0         3     ...       \n",
       "4          Cape Cod           1           0         4     ...       \n",
       "\n",
       "   Basmnt_Desc  Exterior  Cool_System  Heat_System  Water  Sewer  FHA_55_  \\\n",
       "0            1         0            0            1      1      0        0   \n",
       "1            1         1            0            0      1      0        0   \n",
       "2            0         0            1            1      1      1        0   \n",
       "3            1         1            0            1      0      0        0   \n",
       "4            1         0            0            1      0      0        0   \n",
       "\n",
       "   Land_Assessment  Building_Assessment  Tax_Amount  \n",
       "0            72700               106300        5219  \n",
       "1            70300               162900        7100  \n",
       "2            50000                62200        4031  \n",
       "3            88400                89800        6402  \n",
       "4           100800               162100        9445  \n",
       "\n",
       "[5 rows x 21 columns]"
      ]
     },
     "execution_count": 2,
     "metadata": {},
     "output_type": "execute_result"
    }
   ],
   "source": [
    "# Load in data\n",
    "data = pd.read_csv(os.path.join(\"..\",\"..\",\"resources\",\"data\",\"model_data.csv\"))\n",
    "data.head()"
   ]
  },
  {
   "cell_type": "code",
   "execution_count": 3,
   "metadata": {},
   "outputs": [],
   "source": [
    "# Create filtered datasets for model creation\n",
    "unionData = data[data['County'] == 'Union']\n",
    "sussexData = data[data['County'] == 'Sussex']"
   ]
  },
  {
   "cell_type": "code",
   "execution_count": 4,
   "metadata": {},
   "outputs": [],
   "source": [
    "# Define model creator\n",
    "def classifierCreator(readyData, label, colsToDrop):\n",
    "    # Store labels and features then split data for training and testing model\n",
    "    y = readyData[label].values.reshape(-1,1)\n",
    "    X = readyData.drop(colsToDrop, axis=1)\n",
    "    X_dummy = pd.get_dummies(X)\n",
    "    X_train, X_test, y_train, y_test = train_test_split(X_dummy, y, random_state=round(time.time()))\n",
    "    \n",
    "    # Dummy the categorical data\n",
    "    dummy_train = pd.get_dummies(X_train)\n",
    "    dummy_test = pd.get_dummies(X_test)\n",
    "    \n",
    "    # Create, train, and test random forest classifier\n",
    "    randForest = RandomForestClassifier(n_estimators=200)\n",
    "    randForest = randForest.fit(dummy_train, y_train)\n",
    "    testScore = randForest.score(dummy_test, y_test)\n",
    "    modelImportances = sorted(zip(randForest.feature_importances_, dummy_train.columns), reverse=True)\n",
    "    \n",
    "    return randForest, testScore, modelImportances"
   ]
  },
  {
   "cell_type": "code",
   "execution_count": 5,
   "metadata": {},
   "outputs": [],
   "source": [
    "# Function to show readable results of model predictions\n",
    "def displayResults(probs_list, modelName):\n",
    "    width = 34\n",
    "    \n",
    "    print(modelName.center(width))\n",
    "    print('')\n",
    "    \n",
    "    if modelName == 'countyModel':\n",
    "        print('Probabilities of Counties'.center(width))\n",
    "        print('County' + 'Probability'.rjust(width - len('County')))\n",
    "        print('----------------------------------')\n",
    "\n",
    "        for i in range(0,2):\n",
    "            print('----------------------------------')\n",
    "            print(probs_list[i][0] + f'{probs_list[i][1] * 100}%'.rjust(width - len(probs_list[i][0])))\n",
    "    \n",
    "    else:\n",
    "        print('Probabilities 5 Most Likely Towns'.center(width))\n",
    "        print('Town' + 'Probability'.rjust(width - len('County')))\n",
    "        print('----------------------------------')\n",
    "\n",
    "        for i in range(0,5):\n",
    "            print('----------------------------------')\n",
    "            print(probs_list[i][0] + f'{round(probs_list[i][1] * 100, 2)}%'.rjust(width - len(probs_list[i][0])))"
   ]
  },
  {
   "cell_type": "code",
   "execution_count": 6,
   "metadata": {},
   "outputs": [
    {
     "data": {
      "text/plain": [
       "0.47220946841361566"
      ]
     },
     "execution_count": 6,
     "metadata": {},
     "output_type": "execute_result"
    }
   ],
   "source": [
    "# Model to predict pist price of houses. This was our original idea that did not pan out very well\n",
    "y_lp = data['List_Price'].values.reshape(-1,1)\n",
    "X_lp = data.drop(['RecordID','Address','List_Price','Basmnt_Desc','Exterior','Water','Sewer','FHA_55_'], axis=1)\n",
    "X_lp_dummy = pd.get_dummies(X_lp)\n",
    "X_lp_train, X_lp_test, y_lp_train, y_lp_test = train_test_split(X_lp_dummy, y_lp, random_state=round(time.time()))\n",
    "\n",
    "# Dummy the categorical data\n",
    "dummy_train_lp = pd.get_dummies(X_lp_train)\n",
    "dummy_test_lp = pd.get_dummies(X_lp_test)\n",
    "\n",
    "# Fit and score model\n",
    "lpReg = LinearRegression().fit(dummy_train_lp, y_lp_train)\n",
    "lpReg.score(dummy_test_lp, y_lp_test)"
   ]
  },
  {
   "cell_type": "code",
   "execution_count": 7,
   "metadata": {},
   "outputs": [
    {
     "data": {
      "text/html": [
       "<div>\n",
       "<style scoped>\n",
       "    .dataframe tbody tr th:only-of-type {\n",
       "        vertical-align: middle;\n",
       "    }\n",
       "\n",
       "    .dataframe tbody tr th {\n",
       "        vertical-align: top;\n",
       "    }\n",
       "\n",
       "    .dataframe thead th {\n",
       "        text-align: right;\n",
       "    }\n",
       "</style>\n",
       "<table border=\"1\" class=\"dataframe\">\n",
       "  <thead>\n",
       "    <tr style=\"text-align: right;\">\n",
       "      <th></th>\n",
       "      <th>Attribute</th>\n",
       "      <th>Coefficient</th>\n",
       "    </tr>\n",
       "  </thead>\n",
       "  <tbody>\n",
       "    <tr>\n",
       "      <th>58</th>\n",
       "      <td>Style_Carriage House</td>\n",
       "      <td>396943.5340</td>\n",
       "    </tr>\n",
       "    <tr>\n",
       "      <th>75</th>\n",
       "      <td>Style_Log Home</td>\n",
       "      <td>286965.6504</td>\n",
       "    </tr>\n",
       "    <tr>\n",
       "      <th>46</th>\n",
       "      <td>Cities_Towns_Summit City</td>\n",
       "      <td>257025.5451</td>\n",
       "    </tr>\n",
       "    <tr>\n",
       "      <th>33</th>\n",
       "      <td>Cities_Towns_Mountainside Boro</td>\n",
       "      <td>202466.5743</td>\n",
       "    </tr>\n",
       "    <tr>\n",
       "      <th>22</th>\n",
       "      <td>Cities_Towns_Garwood Boro</td>\n",
       "      <td>192711.8495</td>\n",
       "    </tr>\n",
       "    <tr>\n",
       "      <th>34</th>\n",
       "      <td>Cities_Towns_New Providence Boro</td>\n",
       "      <td>166606.8916</td>\n",
       "    </tr>\n",
       "    <tr>\n",
       "      <th>12</th>\n",
       "      <td>Cities_Towns_Berkeley Heights Twp.</td>\n",
       "      <td>165882.3705</td>\n",
       "    </tr>\n",
       "    <tr>\n",
       "      <th>10</th>\n",
       "      <td>Cities_Towns_Andover Boro</td>\n",
       "      <td>158697.3723</td>\n",
       "    </tr>\n",
       "    <tr>\n",
       "      <th>19</th>\n",
       "      <td>Cities_Towns_Frankford Twp.</td>\n",
       "      <td>154908.4119</td>\n",
       "    </tr>\n",
       "    <tr>\n",
       "      <th>59</th>\n",
       "      <td>Style_Chalet</td>\n",
       "      <td>142888.2768</td>\n",
       "    </tr>\n",
       "  </tbody>\n",
       "</table>\n",
       "</div>"
      ],
      "text/plain": [
       "                             Attribute  Coefficient\n",
       "58                Style_Carriage House  396943.5340\n",
       "75                      Style_Log Home  286965.6504\n",
       "46            Cities_Towns_Summit City  257025.5451\n",
       "33      Cities_Towns_Mountainside Boro  202466.5743\n",
       "22           Cities_Towns_Garwood Boro  192711.8495\n",
       "34    Cities_Towns_New Providence Boro  166606.8916\n",
       "12  Cities_Towns_Berkeley Heights Twp.  165882.3705\n",
       "10           Cities_Towns_Andover Boro  158697.3723\n",
       "19         Cities_Towns_Frankford Twp.  154908.4119\n",
       "59                        Style_Chalet  142888.2768"
      ]
     },
     "execution_count": 7,
     "metadata": {},
     "output_type": "execute_result"
    }
   ],
   "source": [
    "# List Attributes of model that are most heavily weighted\n",
    "coeffs = pd.concat([pd.DataFrame(dummy_train_lp.columns),pd.DataFrame(np.transpose(np.abs(lpReg.coef_)))], axis = 1)\n",
    "coeffs.columns = ['Attribute','Coefficient']\n",
    "coeffs = coeffs.sort_values(by='Coefficient', ascending=False).round(4)\n",
    "coeffs.head(10)"
   ]
  },
  {
   "cell_type": "code",
   "execution_count": 8,
   "metadata": {},
   "outputs": [
    {
     "name": "stderr",
     "output_type": "stream",
     "text": [
      "C:\\Users\\eck_b\\Anaconda3\\envs\\PythonData\\lib\\site-packages\\ipykernel_launcher.py:15: DataConversionWarning: A column-vector y was passed when a 1d array was expected. Please change the shape of y to (n_samples,), for example using ravel().\n",
      "  from ipykernel import kernelapp as app\n",
      "C:\\Users\\eck_b\\Anaconda3\\envs\\PythonData\\lib\\site-packages\\ipykernel_launcher.py:15: DataConversionWarning: A column-vector y was passed when a 1d array was expected. Please change the shape of y to (n_samples,), for example using ravel().\n",
      "  from ipykernel import kernelapp as app\n",
      "C:\\Users\\eck_b\\Anaconda3\\envs\\PythonData\\lib\\site-packages\\ipykernel_launcher.py:15: DataConversionWarning: A column-vector y was passed when a 1d array was expected. Please change the shape of y to (n_samples,), for example using ravel().\n",
      "  from ipykernel import kernelapp as app\n",
      "C:\\Users\\eck_b\\Anaconda3\\envs\\PythonData\\lib\\site-packages\\ipykernel_launcher.py:15: DataConversionWarning: A column-vector y was passed when a 1d array was expected. Please change the shape of y to (n_samples,), for example using ravel().\n",
      "  from ipykernel import kernelapp as app\n"
     ]
    }
   ],
   "source": [
    "# Create model using all data to classify county\n",
    "countyModel, cmScore, cmImportances = classifierCreator(data, 'County', ['Cities_Towns','County','RecordID','Address','Style'])\n",
    "\n",
    "# Create model using all data to classify town\n",
    "allTownModel, atmScore, atmImportances = classifierCreator(data, 'Cities_Towns', ['Cities_Towns','County','RecordID','Address','Style', 'Exterior'])\n",
    "\n",
    "# Create model using Sussex County data to classify town\n",
    "sussexTownModel, stmScore, stmImportances = classifierCreator(sussexData, 'Cities_Towns', ['Cities_Towns','County','RecordID','Address','Style', 'Exterior'])\n",
    "\n",
    "# Create model using Union County data to classify town\n",
    "unionTownModel, utmScore, utmImportances = classifierCreator(unionData, 'Cities_Towns', ['Cities_Towns','County','RecordID','Address','Style', 'Exterior'])"
   ]
  },
  {
   "cell_type": "code",
   "execution_count": 9,
   "metadata": {},
   "outputs": [
    {
     "name": "stdout",
     "output_type": "stream",
     "text": [
      "\n",
      "countyModel Score:       0.960820895522388\n",
      "allTownModel Score:      0.6156716417910447\n",
      "sussexTownModel Score:   0.6028368794326241\n",
      "unionTownModel Score:    0.7254901960784313\n",
      "\n"
     ]
    }
   ],
   "source": [
    "# Show model scores\n",
    "print(f'''\n",
    "countyModel Score:       {cmScore}\n",
    "allTownModel Score:      {atmScore}\n",
    "sussexTownModel Score:   {stmScore}\n",
    "unionTownModel Score:    {utmScore}\n",
    "''')"
   ]
  },
  {
   "cell_type": "markdown",
   "metadata": {},
   "source": [
    "Required input format for predictions:\n",
    "countyModel:[[\n",
    "            Acerage                                                  (float), \n",
    "            list price                                               (integer), \n",
    "            number of full baths                                     (integer), \n",
    "            number of half baths                                     (integer), \n",
    "            number of bedrooms                                       (integer), \n",
    "            number of total rooms                                    (integer), \n",
    "            presence of basement                                     (0=No, 1=Yes), \n",
    "            presence of exterior features                            (0=No, 1=Yes), \n",
    "            presence of cooling system                               (0=No, 1=Yes), \n",
    "            type of heating system                                   (0=Radiator, 1=Other), \n",
    "            ownership of water supply                                (0=Private, 1=Public), \n",
    "            ownership of sewer system                                (0=Private, 1=Public), \n",
    "            located within 55 year old and up living area            (0=No, 1=Yes), \n",
    "            land assessment value                                    (integer), \n",
    "            building assessment value                                (integer), \n",
    "            tax amount                                               (integer)\n",
    "            ]]\n",
    "            \n",
    "allTownModel, sussexTownModel, unionTownModel:[[\n",
    "            Acerage                                                  (float), \n",
    "            list price                                               (integer), \n",
    "            number of full baths                                     (integer), \n",
    "            number of half baths                                     (integer), \n",
    "            number of bedrooms                                       (integer), \n",
    "            number of total rooms                                    (integer), \n",
    "            presence of basement                                     (0=No, 1=Yes), \n",
    "            presence of cooling system                               (0=No, 1=Yes), \n",
    "            type of heating system                                   (0=Radiator, 1=Other), \n",
    "            ownership of water supply                                (0=Private, 1=Public), \n",
    "            ownership of sewer system                                (0=Private, 1=Public), \n",
    "            located within 55 year old and up living area            (0=No, 1=Yes), \n",
    "            land assessment value                                    (integer), \n",
    "            building assessment value                                (integer), \n",
    "            tax amount                                               (integer)\n",
    "            ]]"
   ]
  },
  {
   "cell_type": "code",
   "execution_count": 10,
   "metadata": {},
   "outputs": [
    {
     "name": "stdout",
     "output_type": "stream",
     "text": [
      "           countyModel            \n",
      "\n",
      "    Probabilities of Counties     \n",
      "County                 Probability\n",
      "----------------------------------\n",
      "----------------------------------\n",
      "Sussex                       64.0%\n",
      "----------------------------------\n",
      "Union                        36.0%\n"
     ]
    }
   ],
   "source": [
    "# Sample prediction property: 811 Passaic Ave., Linden City, Union County\n",
    "# countyModel: [[0.14,180000,2,1,4,7,1,0,1,1,1,0,0,51000,63300,7871]]\n",
    "# allTownModel, sussexTownModel, unionTownModel: [[0.14,180000,2,1,4,7,1,1,1,1,0,0,51000,63300,7871]]\n",
    "cmClassification = sorted(zip(countyModel.classes_, countyModel.predict_proba([[0.14,180000,2,1,4,7,1,0,1,1,1,0,0,51000,63300,7871]])[0]), key=lambda x: x[1], reverse=True)\n",
    "displayResults(cmClassification, 'countyModel')"
   ]
  },
  {
   "cell_type": "code",
   "execution_count": 11,
   "metadata": {},
   "outputs": [
    {
     "name": "stdout",
     "output_type": "stream",
     "text": [
      "           allTownModel           \n",
      "\n",
      "Probabilities 5 Most Likely Towns \n",
      "Town                 Probability\n",
      "----------------------------------\n",
      "----------------------------------\n",
      "Plainfield City              10.5%\n",
      "----------------------------------\n",
      "Vernon Twp.                  10.0%\n",
      "----------------------------------\n",
      "Byram Twp.                    7.0%\n",
      "----------------------------------\n",
      "Montague Twp.                 6.5%\n",
      "----------------------------------\n",
      "Hardyston Twp.                6.0%\n"
     ]
    }
   ],
   "source": [
    "atmClassification = sorted(zip(allTownModel.classes_, allTownModel.predict_proba([[0.14,180000,2,1,4,7,1,1,1,1,0,0,51000,63300,7871]])[0]), key=lambda x: x[1], reverse=True)\n",
    "displayResults(atmClassification, 'allTownModel')"
   ]
  },
  {
   "cell_type": "code",
   "execution_count": 12,
   "metadata": {},
   "outputs": [
    {
     "name": "stdout",
     "output_type": "stream",
     "text": [
      "         sussexTownModel          \n",
      "\n",
      "Probabilities 5 Most Likely Towns \n",
      "Town                 Probability\n",
      "----------------------------------\n",
      "----------------------------------\n",
      "Vernon Twp.                  12.5%\n",
      "----------------------------------\n",
      "Wantage Twp.                 12.0%\n",
      "----------------------------------\n",
      "Newton Town                  11.5%\n",
      "----------------------------------\n",
      "Hamburg Boro                 10.5%\n",
      "----------------------------------\n",
      "Hopatcong Boro               10.0%\n"
     ]
    }
   ],
   "source": [
    "stmClassification = sorted(zip(sussexTownModel.classes_, sussexTownModel.predict_proba([[0.14,180000,2,1,4,7,1,1,1,1,0,0,51000,63300,7871]])[0]), key=lambda x: x[1], reverse=True)\n",
    "displayResults(stmClassification, 'sussexTownModel')"
   ]
  },
  {
   "cell_type": "code",
   "execution_count": 13,
   "metadata": {},
   "outputs": [
    {
     "name": "stdout",
     "output_type": "stream",
     "text": [
      "          unionTownModel          \n",
      "\n",
      "Probabilities 5 Most Likely Towns \n",
      "Town                 Probability\n",
      "----------------------------------\n",
      "----------------------------------\n",
      "Plainfield City              27.0%\n",
      "----------------------------------\n",
      "Berkeley Heights Twp.        19.0%\n",
      "----------------------------------\n",
      "Roselle Boro                 19.0%\n",
      "----------------------------------\n",
      "Clark Twp.                   13.0%\n",
      "----------------------------------\n",
      "Elizabeth City                7.0%\n"
     ]
    }
   ],
   "source": [
    "utmClassification = sorted(zip(unionTownModel.classes_, unionTownModel.predict_proba([[0.14,180000,2,1,4,7,1,1,1,1,0,0,51000,63300,7871]])[0]), key=lambda x: x[1], reverse=True)\n",
    "displayResults(utmClassification, 'unionTownModel')"
   ]
  },
  {
   "cell_type": "code",
   "execution_count": 14,
   "metadata": {},
   "outputs": [
    {
     "name": "stdout",
     "output_type": "stream",
     "text": [
      "           countyModel            \n",
      "\n",
      "    Probabilities of Counties     \n",
      "County                 Probability\n",
      "----------------------------------\n",
      "----------------------------------\n",
      "Sussex                      100.0%\n",
      "----------------------------------\n",
      "Union                         0.0%\n"
     ]
    }
   ],
   "source": [
    "# Sample prediction property: 44 River Rd., Montague Twp., Sussex County\n",
    "# countyModel: [[1.10,165000,1,0,3,6,1,1,0,0,0,0,0,59600,73700,3615]]\n",
    "# allTownModel, sussexTownModel, unionTownModel: [[1.10,165000,1,0,3,6,1,0,0,0,0,0,59600,73700,3615]]\n",
    "cmClassification = sorted(zip(countyModel.classes_, countyModel.predict_proba([[1.10,165000,1,0,3,6,1,1,0,0,0,0,0,59600,73700,3615]])[0]), key=lambda x: x[1], reverse=True)\n",
    "displayResults(cmClassification, 'countyModel')"
   ]
  },
  {
   "cell_type": "code",
   "execution_count": 15,
   "metadata": {},
   "outputs": [
    {
     "name": "stdout",
     "output_type": "stream",
     "text": [
      "           allTownModel           \n",
      "\n",
      "Probabilities 5 Most Likely Towns \n",
      "Town                 Probability\n",
      "----------------------------------\n",
      "----------------------------------\n",
      "Vernon Twp.                  27.0%\n",
      "----------------------------------\n",
      "Stillwater Twp.              25.5%\n",
      "----------------------------------\n",
      "Hampton Twp.                 13.0%\n",
      "----------------------------------\n",
      "Montague Twp.                11.0%\n",
      "----------------------------------\n",
      "Hardyston Twp.                7.0%\n"
     ]
    }
   ],
   "source": [
    "atmClassification = sorted(zip(allTownModel.classes_, allTownModel.predict_proba([[1.10,165000,1,0,3,6,1,0,0,0,0,0,59600,73700,3615]])[0]), key=lambda x: x[1], reverse=True)\n",
    "displayResults(atmClassification, 'allTownModel')"
   ]
  },
  {
   "cell_type": "code",
   "execution_count": 16,
   "metadata": {},
   "outputs": [
    {
     "name": "stdout",
     "output_type": "stream",
     "text": [
      "         sussexTownModel          \n",
      "\n",
      "Probabilities 5 Most Likely Towns \n",
      "Town                 Probability\n",
      "----------------------------------\n",
      "----------------------------------\n",
      "Vernon Twp.                  35.5%\n",
      "----------------------------------\n",
      "Stillwater Twp.              24.5%\n",
      "----------------------------------\n",
      "Hampton Twp.                 10.5%\n",
      "----------------------------------\n",
      "Montague Twp.                 7.0%\n",
      "----------------------------------\n",
      "Andover Twp.                  4.5%\n"
     ]
    }
   ],
   "source": [
    "stmClassification = sorted(zip(sussexTownModel.classes_, sussexTownModel.predict_proba([[1.10,165000,1,0,3,6,1,0,0,0,0,0,59600,73700,3615]])[0]), key=lambda x: x[1], reverse=True)\n",
    "displayResults(stmClassification, 'sussexTownModel')"
   ]
  },
  {
   "cell_type": "code",
   "execution_count": 17,
   "metadata": {},
   "outputs": [
    {
     "name": "stdout",
     "output_type": "stream",
     "text": [
      "          unionTownModel          \n",
      "\n",
      "Probabilities 5 Most Likely Towns \n",
      "Town                 Probability\n",
      "----------------------------------\n",
      "----------------------------------\n",
      "Berkeley Heights Twp.        33.0%\n",
      "----------------------------------\n",
      "Clark Twp.                   25.5%\n",
      "----------------------------------\n",
      "Plainfield City              14.0%\n",
      "----------------------------------\n",
      "Roselle Park Boro             7.5%\n",
      "----------------------------------\n",
      "Roselle Boro                  5.0%\n"
     ]
    }
   ],
   "source": [
    "utmClassification = sorted(zip(unionTownModel.classes_, unionTownModel.predict_proba([[1.10,165000,1,0,3,6,1,0,0,0,0,0,59600,73700,3615]])[0]), key=lambda x: x[1], reverse=True)\n",
    "displayResults(utmClassification, 'unionTownModel')"
   ]
  },
  {
   "cell_type": "markdown",
   "metadata": {},
   "source": [
    "The below cells are used to save models. They are currently commented out to prevent overwriting current models."
   ]
  },
  {
   "cell_type": "code",
   "execution_count": 18,
   "metadata": {},
   "outputs": [],
   "source": [
    "with open(os.path.join('countyModel'), 'wb') as f:\n",
    "    pickle.dump(countyModel, f)"
   ]
  },
  {
   "cell_type": "code",
   "execution_count": 19,
   "metadata": {},
   "outputs": [],
   "source": [
    "with open(os.path.join('allTownModel'), 'wb') as f:\n",
    "    pickle.dump(allTownModel, f)"
   ]
  },
  {
   "cell_type": "code",
   "execution_count": 20,
   "metadata": {},
   "outputs": [],
   "source": [
    "with open(os.path.join('sussexTownModel'), 'wb') as f:\n",
    "    pickle.dump(sussexTownModel, f)"
   ]
  },
  {
   "cell_type": "code",
   "execution_count": 21,
   "metadata": {},
   "outputs": [],
   "source": [
    "with open(os.path.join('unionTownModel'), 'wb') as f:\n",
    "    pickle.dump(unionTownModel, f)"
   ]
  },
  {
   "cell_type": "code",
   "execution_count": 22,
   "metadata": {},
   "outputs": [],
   "source": [
    "with open(os.path.join('listPriceModel'), 'wb') as f:\n",
    "    pickle.dump(lpReg, f)"
   ]
  },
  {
   "cell_type": "code",
   "execution_count": null,
   "metadata": {},
   "outputs": [],
   "source": []
  }
 ],
 "metadata": {
  "kernelspec": {
   "display_name": "Python 3",
   "language": "python",
   "name": "python3"
  },
  "language_info": {
   "codemirror_mode": {
    "name": "ipython",
    "version": 3
   },
   "file_extension": ".py",
   "mimetype": "text/x-python",
   "name": "python",
   "nbconvert_exporter": "python",
   "pygments_lexer": "ipython3",
   "version": "3.7.1"
  }
 },
 "nbformat": 4,
 "nbformat_minor": 2
}
